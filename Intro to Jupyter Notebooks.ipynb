{
 "cells": [
  {
   "cell_type": "markdown",
   "id": "fa607aeb",
   "metadata": {},
   "source": [
    "# This is a Markdown cell"
   ]
  },
  {
   "cell_type": "code",
   "execution_count": 3,
   "id": "5e3b4dfc",
   "metadata": {},
   "outputs": [],
   "source": [
    "import pandas as pd\n",
    "import matplotlib."
   ]
  },
  {
   "cell_type": "code",
   "execution_count": 1,
   "id": "aaf195c4",
   "metadata": {
    "scrolled": true
   },
   "outputs": [
    {
     "name": "stdout",
     "output_type": "stream",
     "text": [
      "/tmp/Fall-2021-TSCI5230-Example\r\n"
     ]
    }
   ],
   "source": [
    "!pwd"
   ]
  },
  {
   "cell_type": "code",
   "execution_count": 2,
   "id": "0fc5868c",
   "metadata": {},
   "outputs": [
    {
     "data": {
      "text/plain": [
       "['a', 3]"
      ]
     },
     "execution_count": 2,
     "metadata": {},
     "output_type": "execute_result"
    }
   ],
   "source": [
    "['a',3]"
   ]
  },
  {
   "cell_type": "code",
   "execution_count": 5,
   "id": "7cbc65aa",
   "metadata": {},
   "outputs": [
    {
     "data": {
      "text/plain": [
       "{3, 5}"
      ]
     },
     "execution_count": 5,
     "metadata": {},
     "output_type": "execute_result"
    }
   ],
   "source": [
    "foo = {3,5};\n",
    "foo"
   ]
  },
  {
   "cell_type": "code",
   "execution_count": 15,
   "id": "5430ce8d",
   "metadata": {},
   "outputs": [],
   "source": [
    "bar = {'a':3,'b':[1,2,3]}\n",
    "bar\n",
    "bar.get('b')\n",
    "bar.get('a')\n",
    "bar.get('xx')"
   ]
  },
  {
   "cell_type": "code",
   "execution_count": 17,
   "id": "e8503329",
   "metadata": {},
   "outputs": [
    {
     "name": "stdout",
     "output_type": "stream",
     "text": [
      "a\n",
      "b\n"
     ]
    }
   ],
   "source": [
    "for xx in bar:\n",
    "    print(xx)\n",
    "    \n",
    "    "
   ]
  }
 ],
 "metadata": {
  "celltoolbar": "Edit Metadata",
  "kernelspec": {
   "display_name": "Python 3 (ipykernel)",
   "language": "python",
   "name": "python3"
  },
  "language_info": {
   "codemirror_mode": {
    "name": "ipython",
    "version": 3
   },
   "file_extension": ".py",
   "mimetype": "text/x-python",
   "name": "python",
   "nbconvert_exporter": "python",
   "pygments_lexer": "ipython3",
   "version": "3.8.10"
  }
 },
 "nbformat": 4,
 "nbformat_minor": 5
}
